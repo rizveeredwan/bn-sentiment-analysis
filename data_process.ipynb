{
 "cells": [
  {
   "cell_type": "code",
   "execution_count": 18,
   "metadata": {},
   "outputs": [],
   "source": [
    "import os\n",
    "import csv\n",
    "import pandas as pd"
   ]
  },
  {
   "cell_type": "code",
   "execution_count": 2,
   "metadata": {},
   "outputs": [],
   "source": [
    "def read_csv(file_name, dict_obj):\n",
    "    with open(file_name, 'r', encoding='utf-8', errors='ignore') as csv_file:\n",
    "        csv_lines = csv.DictReader(csv_file)\n",
    "        for row in csv_lines:\n",
    "            dict_obj[row['alphabet']]=True"
   ]
  },
  {
   "cell_type": "code",
   "execution_count": 3,
   "metadata": {},
   "outputs": [],
   "source": [
    "bn_vowels, bn_consonants, bn_kars = {}, {}, {}\n",
    "read_csv(os.path.join('resources', 'bn_vowels.csv'), bn_vowels)\n",
    "read_csv(os.path.join('resources', 'bn_kars.csv'), bn_kars)\n",
    "read_csv(os.path.join('resources', 'bn_consonants.csv'), bn_consonants)\n",
    "# True: positive, False: Negative\n",
    "# http://www.symbols-n-emoticons.com/p/facebook-emoticons-list.html\n",
    "emoticons = {':)': 'True', ':D': True, ':(': False, ':\\'(': False, ':P': True, 'O:)': True, ';)': True, '-_-': False, \n",
    "            '^_^': True, '>:(': False, ':v': True, '<3': True}\n",
    "bn_digits = {}\n",
    "for i in range(ord('0'),ord('৯')+1):\n",
    "    bn_digits[chr(i)] = True "
   ]
  },
  {
   "cell_type": "code",
   "execution_count": 4,
   "metadata": {},
   "outputs": [],
   "source": [
    "def tokenize_with_space(sentence):\n",
    "    sub_str = \"\"\n",
    "    tokens = []\n",
    "    for i in range(0, len(sentence)):\n",
    "        if sentence[i] == \" \":\n",
    "            if len(sub_str) > 0:\n",
    "                tokens.append(sub_str)\n",
    "            sub_str = \"\"\n",
    "        else:\n",
    "            sub_str = sub_str + sentence[i]\n",
    "    if sub_str != \"\":\n",
    "        tokens.append(sub_str)\n",
    "    return tokens"
   ]
  },
  {
   "cell_type": "code",
   "execution_count": 5,
   "metadata": {},
   "outputs": [
    {
     "name": "stdout",
     "output_type": "stream",
     "text": [
      "['আমি', 'বাংলায়', 'গান', 'গাই']\n"
     ]
    }
   ],
   "source": [
    "print(tokenize_with_space('আমি    বাংলায় গান গাই  '))"
   ]
  },
  {
   "cell_type": "code",
   "execution_count": 31,
   "metadata": {
    "scrolled": true
   },
   "outputs": [
    {
     "data": {
      "text/plain": [
       "'\\nfor file in files_names:\\n    print(file)\\n'"
      ]
     },
     "execution_count": 31,
     "metadata": {},
     "output_type": "execute_result"
    }
   ],
   "source": [
    "# processing twitter datasets\n",
    "# https://github.com/banglanlp/bangla-sentiment-classification\n",
    "path = os.path.join('./','bangla-sentiment-classification/lexical_analysis')\n",
    "file_names = os.listdir(path)\n",
    "\"\"\"\n",
    "for file in files_names:\n",
    "    print(file)\n",
    "\"\"\""
   ]
  },
  {
   "cell_type": "code",
   "execution_count": 33,
   "metadata": {},
   "outputs": [
    {
     "name": "stdout",
     "output_type": "stream",
     "text": [
      "sorted_Positive_twitter_fbPost_merged_train_train_dev_test.tsv\n",
      "positive\n",
      "58990 58990\n",
      "sorted_Positive_sentiment_train_train_dev_test.tsv\n",
      "positive\n",
      "71200 71200\n",
      "sorted_negative_BASA_cricket_train_train_dev_test.tsv\n",
      "positive\n",
      "105153 105153\n",
      "sorted_Negative_twitter_fbPost_merged_train_train_dev_test.tsv\n",
      "positive\n",
      "151009 151009\n",
      "sorted_conflict_BASA_restaurant_train_train_dev_test.tsv\n",
      "negative\n",
      "154112 154112\n",
      "sorted_neutral_BASA_cricket_train_train_dev_test.tsv\n",
      "neutral\n",
      "sorted_Positive_SAIL_BN_train_train_dev_test.tsv\n",
      "positive\n",
      "160822 160822\n",
      "sorted_Neutral_SAIL_BN_train_train_dev_test.tsv\n",
      "neutral\n",
      "sorted_Neutral_twitter_fbPost_merged_train_train_dev_test.tsv\n",
      "neutral\n",
      "sorted_negative_BASA_restaurant_train_train_dev_test.tsv\n",
      "neutral\n",
      "169786 169786\n",
      "sorted_Neutral_sentiment_train_train_dev_test.tsv\n",
      "neutral\n",
      "sorted_neutral_BASA_restaurant_train_train_dev_test.tsv\n",
      "neutral\n",
      "sorted_positive_BASA_cricket_train_train_dev_test.tsv\n",
      "positive\n",
      "176944 176944\n",
      "sorted_Negative_sentiment_train_train_dev_test.tsv\n",
      "positive\n",
      "205677 205677\n",
      "sorted_Negative_SAIL_BN_train_train_dev_test.tsv\n",
      "positive\n",
      "210278 210278\n",
      "sorted_Positive_multichannel_bsentiment_train_train_dev_test.tsv\n",
      "positive\n",
      "275661 275661\n",
      "sorted_positive_BASA_restaurant_train_train_dev_test.tsv\n",
      "positive\n",
      "293684 293684\n",
      "sorted_Negative_multichannel_bsentiment_train_train_dev_test.tsv\n",
      "positive\n",
      "396993 396993\n",
      "['হবে না আইনমন্ত্রী', 'শিরোনাম। এসব', 'আজকের প্রধান খবর', 'শুভ জন্মদিন', 'না আইনমন্ত্রী'] ['positive', 'positive', 'positive', 'positive', 'positive']\n"
     ]
    }
   ],
   "source": [
    "# will take the lexicons + category will be positive negative (conflict) neutral\n",
    "df_final = {\n",
    "    'sentence': [],\n",
    "    'tags': []\n",
    "}\n",
    "for f in file_names:\n",
    "    if 'positive' in f.lower():\n",
    "        tag = 'positive'\n",
    "    if ('conflict' or 'negative') in f.lower():\n",
    "        tag = 'negative'\n",
    "    if 'neutral' in f.lower():\n",
    "        tag = 'neutral'\n",
    "    print(f)\n",
    "    print(tag)\n",
    "    df = pd.read_csv(os.path.join('./','bangla-sentiment-classification/lexical_analysis',f), sep='\\t')\n",
    "    col = df.columns\n",
    "    f = False\n",
    "    if col[0].lower() in ['positive', 'negative', 'conflict']:\n",
    "        f = True\n",
    "    if f is False:\n",
    "        continue\n",
    "    df_final['sentence'] = df_final['sentence'] + df[col[0]].tolist()\n",
    "    length = len(df[col[0]].tolist())\n",
    "    df_final['tags'] = df_final['tags'] + [tag for i in range(0, length)]\n",
    "    print(len(df_final['sentence']), len(df_final['tags']))\n",
    "print(df_final['sentence'][:5], df_final['tags'][:5])\n",
    "df_out = pd.DataFrame(df_final)\n",
    "df_out.to_csv('data.csv', index=False)"
   ]
  },
  {
   "cell_type": "code",
   "execution_count": 35,
   "metadata": {},
   "outputs": [
    {
     "name": "stdout",
     "output_type": "stream",
     "text": [
      "<bound method NDFrame.head of                  sentence      tags\n",
      "0       হবে না আইনমন্ত্রী  positive\n",
      "1            শিরোনাম। এসব  positive\n",
      "2        আজকের প্রধান খবর  positive\n",
      "3             শুভ জন্মদিন  positive\n",
      "4           না আইনমন্ত্রী  positive\n",
      "...                   ...       ...\n",
      "396988       বাংলাদেশ দলে  positive\n",
      "396989          দেওয়া হোক  positive\n",
      "396990          করতে পারি  positive\n",
      "396991          টাকা দিয়ে  positive\n",
      "396992              নেই ।  positive\n",
      "\n",
      "[396993 rows x 2 columns]>\n",
      "Index(['sentence', 'tags'], dtype='object')\n"
     ]
    }
   ],
   "source": [
    "df = pd.read_csv('data.csv')\n",
    "print(df.head)\n",
    "cols = df.columns\n",
    "print(cols)"
   ]
  }
 ],
 "metadata": {
  "kernelspec": {
   "display_name": "Python 3",
   "language": "python",
   "name": "python3"
  },
  "language_info": {
   "codemirror_mode": {
    "name": "ipython",
    "version": 3
   },
   "file_extension": ".py",
   "mimetype": "text/x-python",
   "name": "python",
   "nbconvert_exporter": "python",
   "pygments_lexer": "ipython3",
   "version": "3.6.9"
  }
 },
 "nbformat": 4,
 "nbformat_minor": 2
}
